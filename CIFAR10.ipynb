{
  "nbformat": 4,
  "nbformat_minor": 0,
  "metadata": {
    "colab": {
      "name": "CIFAR10.ipynb",
      "provenance": []
    },
    "kernelspec": {
      "name": "python3",
      "display_name": "Python 3"
    },
    "accelerator": "GPU"
  },
  "cells": [
    {
      "cell_type": "code",
      "metadata": {
        "colab": {
          "base_uri": "https://localhost:8080/"
        },
        "id": "WuZrXqAsjzhh",
        "outputId": "4701160c-67b0-43c6-db2b-9d35eb91a435"
      },
      "source": [
        "from tensorflow.keras.datasets import cifar10\r\n",
        "(x_train,y_train), (x_test,y_test) = cifar10.load_data()"
      ],
      "execution_count": 1,
      "outputs": [
        {
          "output_type": "stream",
          "text": [
            "Downloading data from https://www.cs.toronto.edu/~kriz/cifar-10-python.tar.gz\n",
            "170500096/170498071 [==============================] - 4s 0us/step\n"
          ],
          "name": "stdout"
        }
      ]
    },
    {
      "cell_type": "code",
      "metadata": {
        "colab": {
          "base_uri": "https://localhost:8080/",
          "height": 283
        },
        "id": "kbkr0sEcvt5i",
        "outputId": "0a765808-4c7b-4c2a-cf3f-e98314667e87"
      },
      "source": [
        "import matplotlib.pyplot as plt\r\n",
        "plt.imshow(x_train[0])"
      ],
      "execution_count": 2,
      "outputs": [
        {
          "output_type": "execute_result",
          "data": {
            "text/plain": [
              "<matplotlib.image.AxesImage at 0x7f718f9e0550>"
            ]
          },
          "metadata": {
            "tags": []
          },
          "execution_count": 2
        },
        {
          "output_type": "display_data",
          "data": {
            "image/png": "[encoded data removed]",
            "text/plain": [
              "<Figure size 432x288 with 1 Axes>"
            ]
          },
          "metadata": {
            "tags": [],
            "needs_background": "light"
          }
        }
      ]
    },
    {
      "cell_type": "code",
      "metadata": {
        "id": "NXqJP1w4kKRP"
      },
      "source": [
        "x_train = x_train/255\r\n",
        "x_test = x_test/255"
      ],
      "execution_count": 3,
      "outputs": []
    },
    {
      "cell_type": "code",
      "metadata": {
        "id": "hNuhYbjNkTj0"
      },
      "source": [
        "from tensorflow.keras.utils import to_categorical\r\n",
        "y_train_c =to_categorical(y_train,10)\r\n",
        "y_test_c =to_categorical(y_test,10)"
      ],
      "execution_count": 4,
      "outputs": []
    },
    {
      "cell_type": "code",
      "metadata": {
        "id": "tWjwxG6KkkNG"
      },
      "source": [
        "from tensorflow.keras.models import Sequential\r\n",
        "from tensorflow.keras.layers import Conv2D,MaxPool2D,Dense,Flatten,Dropout,Input,AveragePooling2D, Activation,Conv2D, MaxPooling2D, BatchNormalization,Concatenate\r\n",
        "from tensorflow.keras.callbacks import EarlyStopping, TensorBoard\r\n",
        "from tensorflow.keras import regularizers, optimizers\r\n",
        "from tensorflow.keras.preprocessing.image import ImageDataGenerator"
      ],
      "execution_count": 5,
      "outputs": []
    },
    {
      "cell_type": "code",
      "metadata": {
        "id": "sFjd7fbOk7Zk"
      },
      "source": [
        "model = Sequential()\r\n",
        "model.add(Conv2D(32, (3, 3), activation='relu', kernel_initializer='he_uniform', padding='same', input_shape=(32, 32, 3)))\r\n",
        "model.add(BatchNormalization())\r\n",
        "model.add(Conv2D(32, (3, 3), activation='relu', kernel_initializer='he_uniform', padding='same'))\r\n",
        "model.add(BatchNormalization())\r\n",
        "model.add(MaxPool2D((2, 2)))\r\n",
        "model.add(Dropout(0.2))\r\n",
        "model.add(Conv2D(64, (3, 3), activation='relu', kernel_initializer='he_uniform', padding='same'))\r\n",
        "model.add(BatchNormalization())\r\n",
        "model.add(Conv2D(64, (3, 3), activation='relu', kernel_initializer='he_uniform', padding='same'))\r\n",
        "model.add(BatchNormalization())\r\n",
        "model.add(MaxPool2D((2, 2)))\r\n",
        "model.add(Dropout(0.3))\r\n",
        "model.add(Conv2D(128, (3, 3), activation='relu', kernel_initializer='he_uniform', padding='same'))\r\n",
        "model.add(BatchNormalization())\r\n",
        "model.add(Conv2D(128, (3, 3), activation='relu', kernel_initializer='he_uniform', padding='same'))\r\n",
        "model.add(BatchNormalization())\r\n",
        "model.add(MaxPool2D((2, 2)))\r\n",
        "model.add(Dropout(0.4))\r\n",
        "model.add(Flatten())\r\n",
        "model.add(Dense(128, activation='relu', kernel_initializer='he_uniform'))\r\n",
        "model.add(BatchNormalization())\r\n",
        "model.add(Dropout(0.5))\r\n",
        "model.add(Dense(10, activation='softmax'))\r\n",
        "model.compile(optimizer='adam', loss='categorical_crossentropy', metrics=['accuracy'])"
      ],
      "execution_count": 6,
      "outputs": []
    },
    {
      "cell_type": "code",
      "metadata": {
        "id": "2UfrCmzSlYej"
      },
      "source": [
        "from tensorflow.keras.preprocessing.image import ImageDataGenerator\r\n",
        "datagen = ImageDataGenerator(\r\n",
        "                             rotation_range=20,\r\n",
        "                             height_shift_range=0.1,\r\n",
        "                             width_shift_range=0.1,\r\n",
        "                             horizontal_flip=True,\r\n",
        "                            )"
      ],
      "execution_count": 7,
      "outputs": []
    },
    {
      "cell_type": "code",
      "metadata": {
        "id": "GzFJ0ReYlh8L"
      },
      "source": [
        "train_gen = datagen.flow(x_train,y_train_c)"
      ],
      "execution_count": 8,
      "outputs": []
    },
    {
      "cell_type": "code",
      "metadata": {
        "id": "IN4T7LkOnED7"
      },
      "source": [
        "from tensorflow.keras.callbacks import ModelCheckpoint\r\n",
        "model_path = 'CNN_model.h5'\r\n",
        "checkpoint = ModelCheckpoint(model_path, monitor='val_accuracy', verbose=1, save_best_only=True, mode='max')\r\n",
        "callbacks_list = [checkpoint]"
      ],
      "execution_count": 9,
      "outputs": []
    },
    {
      "cell_type": "code",
      "metadata": {
        "colab": {
          "base_uri": "https://localhost:8080/"
        },
        "id": "-eO4HnadnHZK",
        "outputId": "31acefaa-b5f7-4101-dcac-f54dbace1510"
      },
      "source": [
        "history=model.fit(train_gen,epochs=10,validation_data=(x_test,y_test_c),callbacks=callbacks_list)"
      ],
      "execution_count": 10,
      "outputs": [
        {
          "output_type": "stream",
          "text": [
            "Epoch 1/10\n",
            "1563/1563 [==============================] - 63s 19ms/step - loss: 2.0416 - accuracy: 0.3272 - val_loss: 1.3136 - val_accuracy: 0.5272\n",
            "\n",
            "Epoch 00001: val_accuracy improved from -inf to 0.52720, saving model to CNN_model.h5\n",
            "Epoch 2/10\n",
            "1563/1563 [==============================] - 29s 19ms/step - loss: 1.3118 - accuracy: 0.5324 - val_loss: 1.1555 - val_accuracy: 0.6061\n",
            "\n",
            "Epoch 00002: val_accuracy improved from 0.52720 to 0.60610, saving model to CNN_model.h5\n",
            "Epoch 3/10\n",
            "1563/1563 [==============================] - 29s 19ms/step - loss: 1.1211 - accuracy: 0.6080 - val_loss: 0.9376 - val_accuracy: 0.6674\n",
            "\n",
            "Epoch 00003: val_accuracy improved from 0.60610 to 0.66740, saving model to CNN_model.h5\n",
            "Epoch 4/10\n",
            "1563/1563 [==============================] - 29s 19ms/step - loss: 1.0023 - accuracy: 0.6547 - val_loss: 0.7905 - val_accuracy: 0.7308\n",
            "\n",
            "Epoch 00004: val_accuracy improved from 0.66740 to 0.73080, saving model to CNN_model.h5\n",
            "Epoch 5/10\n",
            "1563/1563 [==============================] - 29s 19ms/step - loss: 0.9248 - accuracy: 0.6833 - val_loss: 0.7025 - val_accuracy: 0.7591\n",
            "\n",
            "Epoch 00005: val_accuracy improved from 0.73080 to 0.75910, saving model to CNN_model.h5\n",
            "Epoch 6/10\n",
            "1563/1563 [==============================] - 29s 19ms/step - loss: 0.8640 - accuracy: 0.7076 - val_loss: 0.8093 - val_accuracy: 0.7328\n",
            "\n",
            "Epoch 00006: val_accuracy did not improve from 0.75910\n",
            "Epoch 7/10\n",
            "1563/1563 [==============================] - 30s 19ms/step - loss: 0.8273 - accuracy: 0.7173 - val_loss: 0.7378 - val_accuracy: 0.7481\n",
            "\n",
            "Epoch 00007: val_accuracy did not improve from 0.75910\n",
            "Epoch 8/10\n",
            "1563/1563 [==============================] - 29s 19ms/step - loss: 0.7809 - accuracy: 0.7384 - val_loss: 0.6505 - val_accuracy: 0.7728\n",
            "\n",
            "Epoch 00008: val_accuracy improved from 0.75910 to 0.77280, saving model to CNN_model.h5\n",
            "Epoch 9/10\n",
            "1563/1563 [==============================] - 29s 19ms/step - loss: 0.7482 - accuracy: 0.7482 - val_loss: 0.6540 - val_accuracy: 0.7805\n",
            "\n",
            "Epoch 00009: val_accuracy improved from 0.77280 to 0.78050, saving model to CNN_model.h5\n",
            "Epoch 10/10\n",
            "1563/1563 [==============================] - 29s 18ms/step - loss: 0.7200 - accuracy: 0.7545 - val_loss: 0.6056 - val_accuracy: 0.8009\n",
            "\n",
            "Epoch 00010: val_accuracy improved from 0.78050 to 0.80090, saving model to CNN_model.h5\n"
          ],
          "name": "stdout"
        }
      ]
    },
    {
      "cell_type": "code",
      "metadata": {
        "colab": {
          "base_uri": "https://localhost:8080/",
          "height": 283
        },
        "id": "raO7mOu66QsW",
        "outputId": "60310d23-b6cc-4eb8-f269-fccc0052a4ee"
      },
      "source": [
        "import pandas as pd\r\n",
        "pd.DataFrame(history.history).plot()"
      ],
      "execution_count": 11,
      "outputs": [
        {
          "output_type": "execute_result",
          "data": {
            "text/plain": [
              "<matplotlib.axes._subplots.AxesSubplot at 0x7f713a4e22d0>"
            ]
          },
          "metadata": {
            "tags": []
          },
          "execution_count": 11
        },
        {
          "output_type": "display_data",
          "data": {
            "image/png": "[encoded data removed]",
            "text/plain": [
              "<Figure size 432x288 with 1 Axes>"
            ]
          },
          "metadata": {
            "tags": [],
            "needs_background": "light"
          }
        }
      ]
    },
    {
      "cell_type": "code",
      "metadata": {
        "id": "lbuxhXCqLBEI"
      },
      "source": [
        "model_path = 'CIFAR10.h5'\r\n",
        "model.save(model_path)"
      ],
      "execution_count": 13,
      "outputs": []
    },
    {
      "cell_type": "code",
      "metadata": {
        "id": "bvs4CXtA06nd"
      },
      "source": [
        "y_pred = model.predict(x_test)"
      ],
      "execution_count": 16,
      "outputs": []
    },
    {
      "cell_type": "code",
      "metadata": {
        "colab": {
          "base_uri": "https://localhost:8080/"
        },
        "id": "1SLHTjLS1V1v",
        "outputId": "4cbe86ed-8fc2-4a43-d1c1-507c3fbc95e0"
      },
      "source": [
        "y_pred"
      ],
      "execution_count": 17,
      "outputs": [
        {
          "output_type": "execute_result",
          "data": {
            "text/plain": [
              "array([[8.6598480e-03, 1.8934675e-02, 1.4153929e-02, ..., 2.4743653e-03,\n",
              "        6.8972766e-02, 2.2751398e-02],\n",
              "       [3.0516670e-04, 3.7233192e-01, 1.2088174e-06, ..., 6.1916502e-08,\n",
              "        6.2650281e-01, 8.5554982e-04],\n",
              "       [9.1183148e-03, 7.0212625e-02, 1.2039723e-04, ..., 7.9483079e-06,\n",
              "        9.1874301e-01, 1.6979969e-03],\n",
              "       ...,\n",
              "       [1.4157445e-05, 1.7354585e-05, 3.4817564e-03, ..., 5.4280893e-03,\n",
              "        4.8939022e-05, 2.1127156e-04],\n",
              "       [1.3358810e-02, 9.7617269e-01, 7.1176561e-04, ..., 4.3518946e-04,\n",
              "        1.3775768e-03, 4.1710008e-03],\n",
              "       [1.3262919e-05, 7.0981132e-06, 1.4955190e-04, ..., 9.9657923e-01,\n",
              "        6.9517313e-07, 5.3450358e-06]], dtype=float32)"
            ]
          },
          "metadata": {
            "tags": []
          },
          "execution_count": 17
        }
      ]
    },
    {
      "cell_type": "code",
      "metadata": {
        "id": "SQkrGgEM3kea"
      },
      "source": [
        "import numpy as np\r\n",
        "y_pred = np.argmax(y_pred, axis=1)"
      ],
      "execution_count": 19,
      "outputs": []
    },
    {
      "cell_type": "code",
      "metadata": {
        "colab": {
          "base_uri": "https://localhost:8080/"
        },
        "id": "qe_xh9og3s9Q",
        "outputId": "4c355800-de14-4114-d699-f114ee6e01da"
      },
      "source": [
        "y_pred"
      ],
      "execution_count": 20,
      "outputs": [
        {
          "output_type": "execute_result",
          "data": {
            "text/plain": [
              "array([3, 8, 8, ..., 5, 1, 7])"
            ]
          },
          "metadata": {
            "tags": []
          },
          "execution_count": 20
        }
      ]
    },
    {
      "cell_type": "code",
      "metadata": {
        "id": "277FKmsx5upm"
      },
      "source": [
        "classes = ['Airplane', 'Automobile', 'Bird', 'Cat', 'Deer', 'Dog', 'Frog', 'Horse', 'Ship', 'Truck']"
      ],
      "execution_count": 24,
      "outputs": []
    },
    {
      "cell_type": "code",
      "metadata": {
        "id": "SziQ7Zuw7bwf"
      },
      "source": [
        "x = classes[y_pred[2]]"
      ],
      "execution_count": 25,
      "outputs": []
    },
    {
      "cell_type": "code",
      "metadata": {
        "colab": {
          "base_uri": "https://localhost:8080/",
          "height": 35
        },
        "id": "tHNCqGso7wZQ",
        "outputId": "f846acef-1e63-44a1-9b26-b4faaca2db7e"
      },
      "source": [
        "x"
      ],
      "execution_count": 26,
      "outputs": [
        {
          "output_type": "execute_result",
          "data": {
            "application/vnd.google.colaboratory.intrinsic+json": {
              "type": "string"
            },
            "text/plain": [
              "'Ship'"
            ]
          },
          "metadata": {
            "tags": []
          },
          "execution_count": 26
        }
      ]
    },
    {
      "cell_type": "code",
      "metadata": {
        "colab": {
          "base_uri": "https://localhost:8080/",
          "height": 283
        },
        "id": "qHnZ-yZG5jnk",
        "outputId": "b3c52be2-a416-47f5-8be6-f8b1dc664643"
      },
      "source": [
        "plt.imshow(x_test[2])"
      ],
      "execution_count": 23,
      "outputs": [
        {
          "output_type": "execute_result",
          "data": {
            "text/plain": [
              "<matplotlib.image.AxesImage at 0x7f711424d990>"
            ]
          },
          "metadata": {
            "tags": []
          },
          "execution_count": 23
        },
        {
          "output_type": "display_data",
          "data": {
            "image/png": "[encoded data removed]",
            "text/plain": [
              "<Figure size 432x288 with 1 Axes>"
            ]
          },
          "metadata": {
            "tags": [],
            "needs_background": "light"
          }
        }
      ]
    },
    {
      "cell_type": "code",
      "metadata": {
        "colab": {
          "base_uri": "https://localhost:8080/",
          "height": 265
        },
        "id": "c65hIpT57TZq",
        "outputId": "89bf09f3-727c-4d44-9f6e-f5e66020313d"
      },
      "source": [
        "plt.plot(history.history['loss'], label='train loss')\r\n",
        "plt.plot(history.history['val_loss'], label='val loss')\r\n",
        "plt.legend()\r\n",
        "plt.show()"
      ],
      "execution_count": 28,
      "outputs": [
        {
          "output_type": "display_data",
          "data": {
            "image/png": "[encoded data removed]",
            "text/plain": [
              "<Figure size 432x288 with 1 Axes>"
            ]
          },
          "metadata": {
            "tags": [],
            "needs_background": "light"
          }
        }
      ]
    },
    {
      "cell_type": "code",
      "metadata": {
        "colab": {
          "base_uri": "https://localhost:8080/",
          "height": 265
        },
        "id": "Yh2kZ_pD8KqG",
        "outputId": "8e01b692-6be1-4e42-dd08-81992c993f4f"
      },
      "source": [
        "plt.plot(history.history['accuracy'], label='train acc')\r\n",
        "plt.plot(history.history['val_accuracy'], label='val acc')\r\n",
        "plt.legend()\r\n",
        "plt.show()"
      ],
      "execution_count": 29,
      "outputs": [
        {
          "output_type": "display_data",
          "data": {
            "image/png": "[encoded data removed]",
            "text/plain": [
              "<Figure size 432x288 with 1 Axes>"
            ]
          },
          "metadata": {
            "tags": [],
            "needs_background": "light"
          }
        }
      ]
    }
  ]
}